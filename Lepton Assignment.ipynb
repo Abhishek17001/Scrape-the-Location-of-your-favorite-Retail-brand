{
 "cells": [
  {
   "cell_type": "code",
   "execution_count": 30,
   "metadata": {},
   "outputs": [],
   "source": [
    "# Importing Necessary Library\n",
    "import requests\n",
    "from bs4 import BeautifulSoup\n",
    "import csv\n"
   ]
  },
  {
   "cell_type": "code",
   "execution_count": 31,
   "metadata": {},
   "outputs": [],
   "source": [
    "# I have chosen Spencers as it was easy to get store list and its URL\n",
    "url = 'http://www.spencersretail.com/store-list?page=2'"
   ]
  },
  {
   "cell_type": "code",
   "execution_count": 32,
   "metadata": {},
   "outputs": [],
   "source": [
    "# Using request which allows us to send HTTP reequest and then store in response.\n",
    "response = requests.get(url)"
   ]
  },
  {
   "cell_type": "code",
   "execution_count": 33,
   "metadata": {},
   "outputs": [],
   "source": [
    "# Here parsing the HTML content of the response using BeautifulSoup and then storing them into bsoup\n",
    "bsoup = BeautifulSoup(response.text, 'html.parser')"
   ]
  },
  {
   "cell_type": "code",
   "execution_count": 34,
   "metadata": {},
   "outputs": [],
   "source": [
    "### Finding all the store names and their respective information\n",
    "store_name = bsoup.find_all(\"span\", class_=\"fn\")\n",
    "store_address = bsoup.find_all(\"span\", itemprop=\"streetAddress\")\n",
    "postal_code = bsoup.find_all(\"span\", class_=\"postal-code\")\n",
    "locality = bsoup.find_all(\"span\", class_=\"locality\")\n",
    "region = bsoup.find_all(\"span\", class_=\"region\")\n",
    "Contact = bsoup.find_all(\"span\", itemprop=\"telephone\")\n",
    "Time = bsoup.find_all(\"div\", class_=\"field-content\")\n",
    "\n"
   ]
  },
  {
   "cell_type": "code",
   "execution_count": 35,
   "metadata": {},
   "outputs": [],
   "source": [
    "# Creating a List where I can store full address of the store...\n",
    "full_address=[]\n",
    "for i in range(len(store_name)):\n",
    "    full_address.append({\n",
    "        store_address[i].text.strip() + postal_code[i].text.strip() + locality[i].text.strip() + region[i].text.strip()       \n",
    "    })\n"
   ]
  },
  {
   "cell_type": "code",
   "execution_count": 36,
   "metadata": {},
   "outputs": [],
   "source": [
    "# Here trying to get the Timing i.e the opening and closing time of the store..\n",
    "Opening_at=[]\n",
    "for i in range(1,len(Time),3):\n",
    "    Opening_at.append(Time[i])\n",
    "    \n",
    "Closing_at = []\n",
    "for i in range(2,len(Time),3):\n",
    "    Closing_at.append(Time[i])\n"
   ]
  },
  {
   "cell_type": "code",
   "execution_count": 37,
   "metadata": {},
   "outputs": [],
   "source": [
    "# Set up the API endpoint URL and headers to access the TrueWay Geocoding API\n",
    "url = \"https://trueway-geocoding.p.rapidapi.com/Geocode\"\n",
    "\n",
    "headers = {\n",
    "\t\"X-RapidAPI-Key\": \"b2dcd3ea06msh60d0300569d7b6dp1f52a6jsn31f7da53e46b\",\n",
    "\t\"X-RapidAPI-Host\": \"trueway-geocoding.p.rapidapi.com\"\n",
    "}\n",
    "\n",
    "\n"
   ]
  },
  {
   "cell_type": "code",
   "execution_count": 38,
   "metadata": {},
   "outputs": [],
   "source": [
    "# Using TrueWay Geocoding API to get the latitude and longitude of each store and store them.....\n",
    "lati_long = []\n",
    "for i in range(len(full_address)):\n",
    "    querystring = {\"address\":full_address[i],\"language\":\"en\"}\n",
    "    response = requests.request(\"GET\", url, headers=headers, params=querystring)\n",
    "    lati_long.append((response.json()['results'][0][\"location\"]))\n",
    "                  "
   ]
  },
  {
   "cell_type": "code",
   "execution_count": 42,
   "metadata": {},
   "outputs": [],
   "source": [
    "# Crating a Dictionary to store all the information.....\n",
    "info = []\n",
    "for i in range(len(store_name)):\n",
    "    info.append({\n",
    "        \"Store Name\": store_name[i].text.strip(),\n",
    "        \"Store Address\": store_address[i].text.strip(),\n",
    "        \"Postal Code\": postal_code[i].text.strip(),\n",
    "        \"Locality\": locality[i].text.strip(),\n",
    "        \"Region\": region[i].text.strip(),\n",
    "        \"Contact\": Contact[i].text.strip(),\n",
    "        \"Opening At\": Opening_at[i].text.strip(),\n",
    "        \"Closing At\": Closing_at[i].text.strip(),\n",
    "        \"Lati-Long\": lati_long[i]\n",
    "    })"
   ]
  },
  {
   "cell_type": "code",
   "execution_count": 44,
   "metadata": {},
   "outputs": [],
   "source": [
    "# Write the data into a CSV file called 'lepton_assignment.csv'\n",
    "with open('lepton_assignment.csv', mode='w', newline='') as file:\n",
    "    writer = csv.DictWriter(file, fieldnames=info[0].keys())\n",
    "    writer.writeheader()\n",
    "    for row in info:\n",
    "        writer.writerow(row)"
   ]
  },
  {
   "cell_type": "code",
   "execution_count": null,
   "metadata": {},
   "outputs": [],
   "source": []
  }
 ],
 "metadata": {
  "kernelspec": {
   "display_name": "Python 3",
   "language": "python",
   "name": "python3"
  },
  "language_info": {
   "codemirror_mode": {
    "name": "ipython",
    "version": 3
   },
   "file_extension": ".py",
   "mimetype": "text/x-python",
   "name": "python",
   "nbconvert_exporter": "python",
   "pygments_lexer": "ipython3",
   "version": "3.8.5"
  }
 },
 "nbformat": 4,
 "nbformat_minor": 4
}
